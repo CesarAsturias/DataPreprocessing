{
 "cells": [
  {
   "cell_type": "code",
   "execution_count": 1,
   "metadata": {
    "collapsed": true
   },
   "outputs": [],
   "source": [
    "from basic_library import *\n",
    "import pandas as pd\n",
    "import numpy as np\n",
    "from datetime import datetime, timedelta"
   ]
  },
  {
   "cell_type": "code",
   "execution_count": null,
   "metadata": {
    "collapsed": false
   },
   "outputs": [],
   "source": [
    "date_today = datetime.now()\n",
    "days = pd.date_range(date_today, date_today + timedelta(hours=1), freq='T')\n",
    "\n",
    "np.random.seed(seed=1111)\n",
    "data = np.random.randint(1, high=100, size=len(days))\n",
    "df = pd.DataFrame({'test': days, 'col2': data})\n",
    "df = df.set_index('test')\n",
    "print (df.head(10))\n",
    "df_res = df.resample('1s').pad()\n",
    "print (df_res.head())\n",
    "df_res.bfill(inplace=True)\n",
    "print (df_res.head())\n",
    "df_res = df.resample('1min').mean()\n",
    "print (df_res.head())"
   ]
  },
  {
   "cell_type": "code",
   "execution_count": 2,
   "metadata": {
    "collapsed": false
   },
   "outputs": [
    {
     "name": "stdout",
     "output_type": "stream",
     "text": [
      "                            col2  col3\n",
      "test                                  \n",
      "2017-05-07 14:08:39.194528    29     1\n",
      "2017-05-07 14:09:39.194528    56     0\n",
      "2017-05-07 14:10:39.194528    82     1\n",
      "2017-05-07 14:11:39.194528    13     1\n",
      "2017-05-07 14:12:39.194528    35     1\n"
     ]
    }
   ],
   "source": [
    "date_today = datetime.now()\n",
    "days = pd.date_range(date_today, date_today + timedelta(hours=2), freq='T')\n",
    "\n",
    "np.random.seed(seed=1111)\n",
    "data = np.random.randint(1, high=100, size=len(days))\n",
    "data_bool = np.random.randint(2, size=len(days))\n",
    "df = pd.DataFrame({'test': days, 'col2': data, 'col3': data_bool})\n",
    "df = df.set_index('test')\n",
    "print (df.head())"
   ]
  },
  {
   "cell_type": "code",
   "execution_count": null,
   "metadata": {
    "collapsed": false
   },
   "outputs": [],
   "source": [
    "df_res = resample_data(df, '1s', method='pad')"
   ]
  },
  {
   "cell_type": "code",
   "execution_count": null,
   "metadata": {
    "collapsed": false
   },
   "outputs": [],
   "source": [
    "print (df_res.head())"
   ]
  },
  {
   "cell_type": "code",
   "execution_count": 3,
   "metadata": {
    "collapsed": false
   },
   "outputs": [
    {
     "name": "stdout",
     "output_type": "stream",
     "text": [
      "                            col2 col3\n",
      "test                                 \n",
      "2017-05-07 14:08:39.194528    29   On\n",
      "2017-05-07 14:09:39.194528    56  Off\n",
      "2017-05-07 14:10:39.194528    82   On\n",
      "2017-05-07 14:11:39.194528    13   On\n",
      "2017-05-07 14:12:39.194528    35   On\n",
      "                            col2  col3\n",
      "test                                  \n",
      "2017-05-07 14:08:39.194528    29     1\n",
      "2017-05-07 14:09:39.194528    56     0\n",
      "2017-05-07 14:10:39.194528    82     1\n",
      "2017-05-07 14:11:39.194528    13     1\n",
      "2017-05-07 14:12:39.194528    35     1\n"
     ]
    }
   ],
   "source": [
    "df2 = integer2booleantext(df, ['col3'])\n",
    "print (df2.head())\n",
    "df2 = booleantext2integer(df2, ['col3'])\n",
    "print (df2.head())"
   ]
  },
  {
   "cell_type": "code",
   "execution_count": null,
   "metadata": {
    "collapsed": false
   },
   "outputs": [],
   "source": []
  },
  {
   "cell_type": "code",
   "execution_count": null,
   "metadata": {
    "collapsed": true
   },
   "outputs": [],
   "source": []
  }
 ],
 "metadata": {
  "anaconda-cloud": {},
  "kernelspec": {
   "display_name": "Python [conda root]",
   "language": "python",
   "name": "conda-root-py"
  },
  "language_info": {
   "codemirror_mode": {
    "name": "ipython",
    "version": 3
   },
   "file_extension": ".py",
   "mimetype": "text/x-python",
   "name": "python",
   "nbconvert_exporter": "python",
   "pygments_lexer": "ipython3",
   "version": "3.5.2"
  }
 },
 "nbformat": 4,
 "nbformat_minor": 1
}
